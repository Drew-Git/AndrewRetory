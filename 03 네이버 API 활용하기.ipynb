{
 "cells": [
  {
   "cell_type": "code",
   "execution_count": 203,
   "metadata": {},
   "outputs": [
    {
     "name": "stdout",
     "output_type": "stream",
     "text": [
      "https://openapi.naver.com/v1/search/kin.json?sort=sim&start=1&display=10&query=%ED%95%B4%EC%99%B8+%EB%B0%B0%EB%82%AD%EC%97%AC%ED%96%89\n"
     ]
    }
   ],
   "source": [
    "from urllib.request import urlopen\n",
    "from urllib.parse import quote_plus # 웹에서 사용할 파라미터를 자동으로 설정\n",
    "import json\n",
    "from bs4 import BeautifulSoup\n",
    "\n",
    "from gensim.models import word2vec\n",
    "from konlpy.tag import Twitter\n",
    "from bs4 import BeautifulSoup\n",
    "import re\n",
    "\n",
    "from collections import Counter # 문자 갯수를 지정할 수 있음\n",
    "from wordcloud import WordCloud\n",
    "import matplotlib.pyplot as plt # \n",
    "\n",
    "\n",
    "# 네이버 API 주소가 들어간다.\n",
    "defaultURL = 'https://openapi.naver.com/v1/search/kin.json?'\n",
    "# 이 밑에 우리가 원하는 파라미터를 넣어주면 됨 \n",
    "\n",
    "sort    = 'sort=sim'\n",
    "start   = '&start=1' # 1부터 1000까지\n",
    "display = '&display=10'\n",
    "query   = '&query=' + quote_plus('해외 배낭여행')\n",
    "                                # 페이징 # 몇개씩 보여주겠다. # url 오픈으로 안되면 셀레니움\n",
    "reqURL = defaultURL + sort + start + display + query\n",
    "print(reqURL)"
   ]
  },
  {
   "cell_type": "code",
   "execution_count": 86,
   "metadata": {},
   "outputs": [
    {
     "data": {
      "text/plain": [
       "'https://openapi.naver.com/v1/search/kin.json?sort=sim&start=1&display=10&query=%ED%95%B4%EC%99%B8+%EB%B0%B0%EB%82%AD%EC%97%AC%ED%96%89'"
      ]
     },
     "execution_count": 86,
     "metadata": {},
     "output_type": "execute_result"
    }
   ],
   "source": [
    "reqURL"
   ]
  },
  {
   "cell_type": "raw",
   "metadata": {},
   "source": [
    "rescode # 200이면 제대로 받아왔다라는 것을 의미\n",
    "if rescode == 200:\n",
    "    response_body = response.read().decode('utf-8')\n",
    "    print(response_body)\n",
    "else:\n",
    "    print('에러 발생! 쀼쀼쀼쀼쀼 {}'.format(rescode))\n"
   ]
  },
  {
   "cell_type": "raw",
   "metadata": {},
   "source": [
    "# 우리가 원하는 내용은 items에 있음\n",
    "rescode # 200이면 제대로 받아왔다라는 것을 의미\n",
    "if rescode == 200:\n",
    "    response_body = response.read().decode('utf-8')\n",
    "    jsonObj = json.loads(response_body)\n",
    "    \n",
    "    for item in jsonObj['items']:\n",
    "        print(item['description'])\n",
    "        print(item['link'])\n",
    "else:\n",
    "    print('에러 발생! 쀼쀼쀼쀼쀼 {}'.format(rescode))"
   ]
  },
  {
   "cell_type": "code",
   "execution_count": 208,
   "metadata": {
    "scrolled": true
   },
   "outputs": [
    {
     "name": "stdout",
     "output_type": "stream",
     "text": [
      "200\n"
     ]
    }
   ],
   "source": [
    "import urllib\n",
    "url_list = []\n",
    "client_id = 'jTTJH_TpFzOoiAANdSvd'\n",
    "client_secret = '6hDGOZfeUp'\n",
    "\n",
    "\n",
    "for i in range(1,2):\n",
    "    start ='&start={}'.format(i)\n",
    "    reqURL = defaultURL + sort + start + display + query\n",
    "    request = urllib.request.Request(reqURL)\n",
    "    request.add_header('X-Naver-Client-Id', client_id)\n",
    "    request.add_header('X-Naver-Client-Secret', client_secret)\n",
    "    response = urllib.request.urlopen(request)\n",
    "    rescode = response.getcode()\n",
    "    print(rescode)"
   ]
  },
  {
   "cell_type": "code",
   "execution_count": 205,
   "metadata": {
    "scrolled": true
   },
   "outputs": [
    {
     "name": "stdout",
     "output_type": "stream",
     "text": [
      "<http.client.HTTPResponse object at 0x00000135274B3710>\n"
     ]
    }
   ],
   "source": [
    "import urllib\n",
    "\n",
    "# 인증하기~ \n",
    "client_id = 'jTTJH_TpFzOoiAANdSvd'\n",
    "client_secret = '6hDGOZfeUp'\n",
    "\n",
    "# 요청( request) 객체 만들기\n",
    "request = urllib.request.Request(reqURL)\n",
    "request.add_header('X-Naver-Client-Id', client_id)\n",
    "request.add_header('X-Naver-Client-Secret', client_secret)\n",
    "\n",
    "response = urllib.request.urlopen(request)\n",
    "print(response)\n",
    "rescode = response.getcode()\n",
    "# 우리가 원하는 내용은 items에 있음\n",
    "# rescode # 200이면 제대로 받아왔다라는 것을 의미\n",
    "if rescode == 200:\n",
    "    response_body = response.read().decode('utf-8')\n",
    "    jsonObj = json.loads(response_body)\n",
    "    \n",
    "    for item in jsonObj['items']:\n",
    "        item['link']\n",
    "else:\n",
    "    print('에러 발생! 쀼쀼쀼쀼쀼 {}'.format(rescode))"
   ]
  },
  {
   "cell_type": "code",
   "execution_count": null,
   "metadata": {},
   "outputs": [],
   "source": []
  },
  {
   "cell_type": "code",
   "execution_count": null,
   "metadata": {},
   "outputs": [],
   "source": []
  },
  {
   "cell_type": "code",
   "execution_count": 125,
   "metadata": {},
   "outputs": [],
   "source": [
    "import urllib.request as req"
   ]
  },
  {
   "cell_type": "markdown",
   "metadata": {},
   "source": [
    "# 해외 배낭 여행"
   ]
  },
  {
   "cell_type": "code",
   "execution_count": 269,
   "metadata": {
    "scrolled": true
   },
   "outputs": [
    {
     "name": "stdout",
     "output_type": "stream",
     "text": [
      "\t\t\t\t\t\t\t\t\t\t\t\t\t\t\t\t\t\t\t\t\t\t\t\t\t\tArrangy님 답변\t\t\t\t\t\t\t\t\t\t\t친구바람신채택답변수 1,401열심답변자대표답변유럽배낭여행 90일 고수님들만URLhttps://arrangy\n",
      "com어레인지 - '최적 인/아웃'이 만드는 놀라운 여행루트\n",
      "\t\t\t\t\t\t\t\t\t\t\t\t\t\t\t\t\t추가 프로필 펼치기질문자채택 [103일, 프라하 인 - 파리 아웃, 최적루트, 전체 여행 지도 / 일정, 19333Km]프라하/체스키(4박) - 뮌헨/퓌센(3) - 인터라켄/루체른(4) - (fly, 1574Km) - 마드리드/톨레도/세고비아(3) - (fly, 513Km) - 포르투(2) - 리스본(3) - (fly, 464Km) - 세비야(2) - 론다/그라나다(2) - (fly, 850Km) - 바르셀로나(3) - (fly or train, 413Km) - 아를/아비뇽(2) - 엑상프로방스(1) - 니스/에즈/모나코(4) - (fly, 681Km) - 로마/바티칸(4) - 나폴리/아말피(2) - 피렌체(2) - 베니스(1) - 자드레브(3) - 스플리트(2) - 두브로브니크(3) - (fly, 1314Km) - 산토리니(3) - (fly) - 아테네(3) - (fly, 1471Km) - 부다페스트(4) - 크라쿠프(4) - 바르샤바(2) - (fly, 573) - 베를린/포츠담(4) - (fly, 430Km) - 코펜하겐(3) - (fly, 609Km) - 스톡홀름(3) - (fly, 523Km) - 오슬로(3) - (fly to AES, 543Km) - 게이랑허피요르드(2) - 송네피요르드(1) - 베르겐(2) - 스타방거/펄핏락(3) - (fly, 1314Km) - 암스테르담(3) - 브뤼셀(1) - (fly, 364Km) - 런던(4) - (fly, 556Km) - 더블린 - (fly, 1030Km) - 파리(4) out*** 자세한 루트, 지도 클릭 ****\"무엇을 좋아하는지 몰라서 일단 다 준비해봤어,,,,\" 정도의 질문이 등장하면,\"유럽의 인기 여행지를 거의 대부분 포함하는 여정이야\n",
      "\n",
      "\n",
      "\" 하면서, 위의 여행 지도를 내놓는데,유럼에 대해서 위의 여행 지도를 출발점으로 가고 싶은 도시/지역을 일단 정하면 됩니다\n",
      "----* 한달 정도라면, 아래의 스페인 또는 동유럽 포함 여부에 따라서 달라지니,아래를 참고해서 여행 준비에 지치지 말고 나만의 여정을 만들어 보세요~* 그리고 도시가 정해지면, \"로마 인 - 파리 아웃\" 같은 유럽 인/아웃은 컴퓨터의 도움으로 최적 루트를 쉽게 만들 수 있습니다\n",
      " * 사라하 사막 (예, 모로코 메르주가), 시베리아 횡단철도 TSR 은 포함할 경우 각각 +7일 정도 필요한 것을 감안하세요\n",
      "-----* 스페인 포함[32일, 런던 인 - 마드리드 아웃, 최적루트, 전체 여행 지도 / 일정, 5418Km]런던(4박) - (fly or train) - 파리/베르사유(4) - (fly or train) - 인터라켄/루체른(4) - (fly, 530Km) - 베니스(2) - 피렌체(2) 로마/바티칸(3) - (fly, 680Km) - 니스/모나코(3) - (fly, 620Km) - 바르셀로나(3) - (fly, 850Km) - 그라나다/론다/세비야(4) - (fly or train, 550Km) - 마드리드/톨레도/세고비아(3) out*** 자세한 루트, 지도 클릭 **** 동유럽 포함[34일, 런던 인 - 로마 아웃, 최적루트, 전체 여행 지도 / 일정, 4751Km]런던(4박) - (fly or train) - 파리/베르사유(3) - (train or fly) - 인터라켄/루체른(3) - 퓌센/뮌헨/잘츠루브크/할슈타트(4) - 체스키/프라하(4) - 빈(2) - 부다페스트(3) - (fly, 720Km) - 베니스(2) - (fly, 558Km) - 니스/모나코(3) - (fly to FCO or train, 421Km) - 피렌체(2) - 로마/바티칸(3) out*** 자세한 루트, 지도 클릭 ***각각의 경우에,여행기간에 적합한 언급한 나라와 주변의 인기 여행지를 뽑고,각각의 도시에 머무는 적절한 기간과효율적인 이동 동선 모두를 고려해서,컴퓨터를 사용해서 최적루트를 계산하면 위의 지도의 여정으로 움직이면 됩니다\n",
      " 그리고 스페인을 포함하는 여정의 경우,위의 \"런던 인 - 마드리드 아웃\"이 비행 편수도 많고 이동 효율적인 최적인아웃이지만,아래의 \"런던 인 - 로마 아웃\"도 선택할 수 있는 인아웃에 속하니항공권 가격 비교를 하고 선택하는 것이 좋겠네요\n",
      "[런던 인 - 로마 아웃, 최적루트, 전체 여행 지도 / 일정, 5861Km]*** 자세한 루트, 지도 클릭 ***그리고 도시간 이동 거리가 먼 구간과 육상 이동이 오래 걸리는 구간은 항공 이동이 합리적이고(지도의 거리를 보면 답 나옴)프랑스, 스페인, 이탈리아는 패스 효용이 떨어지니, (추가 예약비 필요!!!!)위의 여정은 미리미리 항공과 철도 구간권을 예약해서 이동하는 것이 좋겠네요\n",
      "(예, 스위스 - 니스, 육상 이동 오래 걸림) 이것저것 생각하기 귀찮다면 유레일을 구입하면 되는데,비용을 줄이고 싶다면, 패스 사용하지 말고, 미리미리 예약해서 가는 것이 합리적입니다\n",
      "(위의 여정에서 굳이 패스를 한다면 스위스패스 정도,)경비는 천차만별이지만, 유럽 여행 경비는 (유럽 인아웃 항공권 + 유럽내 이동 비용 + 숙식 비용)으로 생각할 수 있고,유럽 여행자의 하루 숙식비용은 10만원 이상을 예상하는 것이 합리적입니다\n",
      "위의 경우에 30일 내외라면, 언급된 비용은 가능하지만 다소 빠듯할 것으로 생각되고,이 경우에 가장 많은 비중을 차지하는 것이 숙박비기 때문에,아직 시간이 남아 있으니 어디를 정하지 말고 일단 지역별 숙소를 좀 알아보는 것이 좋겠네요\n",
      "(편리함 : 호텔 > 에어비엔비 > 호스텔 , 비용은 거꾸로)아무쪼록 여행 준비에 스트레스 받지 말고, 유럽에서 멋진 추억 많이 만드세요~~~여행의 시작 - 어레인지---- * 부록, 파리 상세 일정[샹젤리제 숙소, 파란색 H 기준,  최적루트, 전체 여행 지도 / 일정]1일 (빨간색) : 숙소 - 베르사유 - 개선문/상젤리제 - 바토무슈 - 숙소2일 (주황색) : 숙소 - 루브르 - 노틀담 - 마르스광장/에펠탑  - 숙소3일 (노란색) : 숙소 - 오페라 가르니에/라파예트 백화점 - 몽마르트 - 숙소*** 자세한 루트, 지도 클릭 ***그리고 파리의 여정은, 파리의 인기 여행지를 뽑고,상젤리제 숙소를 기준으로,각각의 스팟에 머무는 적절한 시간과 효율적인 이동 동선을 모두 고려해서,컴퓨터를 이용해서 파리의 최적루트를 만들면 위의 지도로 구성할 수 있습니다\n",
      "[파리 인기 여행지 모두에 이동이 편리한 최적 호텔 지도 / 위치]* 다른 도시의 인기 여행지, 최적호텔은 \"전체 여행 지도 / 일정\"의 해당 도시 참조* 각각의 여행 장소의 이동은 \"전체 여행 지도 / 일정\"의 해당 도시/스팟의 \"길찾기 direction\" 참조----* 부록, 런던 상세 일정 [워털루 숙소, 주황색 H 기준, 최적루트, 전체 여행 지도 / 일정]*** 자세한 루트, 지도 클릭 ***[런던 확대, 워털루 숙소, 주황색 H 기준, 최적루트, 전체 여행 지도 / 일정]1일 (주황색) : 숙소(or 공항) - 웸블리 스타디엄 - (왕립 항공박물관 RAF) - 겜든마켓 - 네셔널 갤러리/트라팔가광장 - 숙소2일 (빨간색) : 숙소 - 웨스터민스터 - 세인트제임스/버킹엄 - 피카딜리 서커스 - 테이트 모던 - 런던 아이 - 숙소3일 (노란색) : 숙소 - 세인트 폴 대성당 - 런던 브리지 - 버로우마켓/더샤드 - 타워브리지 - 런던 타워 - 숙소4일 (연두색) : 숙소 - 세븐시스터즈 - 숙소(or 공항)*** 자세한 루트, 지도 클릭 ***그리고 런던의 여정은, 런던의 인기 여행지를 뽑고,워털루 숙소를 기준으로,각각의 스팟에 머무는 적절한 시간과 효율적인 이동 동선을 모두 고려해서,컴퓨터를 이용해서 파리의 최적루트를 계산하면위의 지도로 구성할 수 있습니다\n",
      "----* 채택률이 낮으면 좋은 답을 찾기 어려우니, 도움이 되었다면 채택도 부탁드려요~2018\n",
      "06\n",
      "26\n",
      " 12:28태그리스트#최적루트#최적인아웃#최적호텔#파리숙소#파리숙소추천#파리숙소위치#파리호텔#파리호텔추천#파리호텔위치#파리호스텔https://arrangy\n",
      "com/s/ViTWiMBlOl표정표정좋아요 평가하기표정좋아요총:0유익해요총:0재밌어요총:0동의못해요총:0광고같아요총:0사용자 표시댓글신고\n"
     ]
    },
    {
     "ename": "AttributeError",
     "evalue": "'NoneType' object has no attribute 'text'",
     "output_type": "error",
     "traceback": [
      "\u001b[1;31m---------------------------------------------------------------------------\u001b[0m",
      "\u001b[1;31mAttributeError\u001b[0m                            Traceback (most recent call last)",
      "\u001b[1;32m<ipython-input-269-947d8ce36879>\u001b[0m in \u001b[0;36m<module>\u001b[1;34m()\u001b[0m\n\u001b[0;32m     23\u001b[0m             \u001b[0msoup\u001b[0m \u001b[1;33m=\u001b[0m \u001b[0mBeautifulSoup\u001b[0m\u001b[1;33m(\u001b[0m\u001b[0mres\u001b[0m\u001b[1;33m,\u001b[0m \u001b[1;34m'html.parser'\u001b[0m\u001b[1;33m)\u001b[0m\u001b[1;33m\u001b[0m\u001b[0m\n\u001b[0;32m     24\u001b[0m           \u001b[1;31m#  answer_body = soup.find(id='contents_layer_1').text.replace('\\n','') # 개행 없이 지워버리고 분석하곘다.\u001b[0m\u001b[1;33m\u001b[0m\u001b[1;33m\u001b[0m\u001b[0m\n\u001b[1;32m---> 25\u001b[1;33m             \u001b[0manswer_body\u001b[0m \u001b[1;33m=\u001b[0m \u001b[0msoup\u001b[0m\u001b[1;33m.\u001b[0m\u001b[0mfind\u001b[0m\u001b[1;33m(\u001b[0m\u001b[1;34m'div'\u001b[0m\u001b[1;33m,\u001b[0m\u001b[0mclass_\u001b[0m\u001b[1;33m=\u001b[0m\u001b[1;34m'end_answer'\u001b[0m\u001b[1;33m)\u001b[0m\u001b[1;33m.\u001b[0m\u001b[0mtext\u001b[0m\u001b[1;33m.\u001b[0m\u001b[0mreplace\u001b[0m\u001b[1;33m(\u001b[0m\u001b[1;34m'\\n'\u001b[0m\u001b[1;33m,\u001b[0m\u001b[1;34m''\u001b[0m\u001b[1;33m)\u001b[0m\u001b[1;33m\u001b[0m\u001b[0m\n\u001b[0m\u001b[0;32m     26\u001b[0m             \u001b[0manswer_body\u001b[0m \u001b[1;33m=\u001b[0m \u001b[0mre\u001b[0m\u001b[1;33m.\u001b[0m\u001b[0msub\u001b[0m\u001b[1;33m(\u001b[0m\u001b[1;34m'\\.'\u001b[0m\u001b[1;33m,\u001b[0m \u001b[1;34m'\\n'\u001b[0m\u001b[1;33m,\u001b[0m \u001b[0mre\u001b[0m\u001b[1;33m.\u001b[0m\u001b[0msub\u001b[0m\u001b[1;33m(\u001b[0m\u001b[1;34m'\\n'\u001b[0m\u001b[1;33m,\u001b[0m\u001b[1;34m''\u001b[0m\u001b[1;33m,\u001b[0m \u001b[0manswer_body\u001b[0m\u001b[1;33m)\u001b[0m\u001b[1;33m)\u001b[0m\u001b[1;33m\u001b[0m\u001b[0m\n\u001b[0;32m     27\u001b[0m             \u001b[0mprint\u001b[0m\u001b[1;33m(\u001b[0m\u001b[0manswer_body\u001b[0m\u001b[1;33m)\u001b[0m\u001b[1;33m\u001b[0m\u001b[0m\n",
      "\u001b[1;31mAttributeError\u001b[0m: 'NoneType' object has no attribute 'text'"
     ]
    }
   ],
   "source": [
    "import urllib.request as req\n",
    "import urllib\n",
    "url_list = []\n",
    "answer = []\n",
    "import time \n",
    "\n",
    "for i in range(1,11):\n",
    "    start ='&start={}'.format(i)\n",
    "    reqURL = defaultURL + sort + start + display + query\n",
    "    request = urllib.request.Request(reqURL)\n",
    "    request.add_header('X-Naver-Client-Id', 'jTTJH_TpFzOoiAANdSvd')\n",
    "    request.add_header('X-Naver-Client-Secret','6hDGOZfeUp')    \n",
    "    response = urllib.request.urlopen(request)\n",
    "    rescode = response.getcode()\n",
    "  \n",
    "    if rescode == 200:\n",
    "        response_body = response.read().decode('utf-8')\n",
    "        jsonObj = json.loads(response_body)\n",
    "    \n",
    "        for item in jsonObj['items']:\n",
    "            url= item['link']\n",
    "            res = req.urlopen(url)\n",
    "            soup = BeautifulSoup(res, 'html.parser')\n",
    "          #  answer_body = soup.find(id='contents_layer_1').text.replace('\\n','') # 개행 없이 지워버리고 분석하곘다. \n",
    "            answer_body = soup.find('div',class_='end_answer').text.replace('\\n','') \n",
    "            answer_body = re.sub('\\.', '\\n', re.sub('\\n','', answer_body))\n",
    "            print(answer_body)\n",
    "    else:\n",
    "        print('에러 발생! 쀼쀼쀼쀼쀼 {}'.format(rescode))\n",
    "        time.sleep(0.5)\n",
    "    print()"
   ]
  },
  {
   "cell_type": "code",
   "execution_count": 258,
   "metadata": {},
   "outputs": [
    {
     "ename": "AttributeError",
     "evalue": "'NoneType' object has no attribute 'text'",
     "output_type": "error",
     "traceback": [
      "\u001b[1;31m---------------------------------------------------------------------------\u001b[0m",
      "\u001b[1;31mAttributeError\u001b[0m                            Traceback (most recent call last)",
      "\u001b[1;32m<ipython-input-258-949c4ac92aea>\u001b[0m in \u001b[0;36m<module>\u001b[1;34m()\u001b[0m\n\u001b[0;32m      1\u001b[0m \u001b[0manswer\u001b[0m \u001b[1;33m=\u001b[0m \u001b[1;33m[\u001b[0m\u001b[1;33m]\u001b[0m\u001b[1;33m\u001b[0m\u001b[0m\n\u001b[0;32m      2\u001b[0m \u001b[1;33m\u001b[0m\u001b[0m\n\u001b[1;32m----> 3\u001b[1;33m \u001b[0manswer_body\u001b[0m \u001b[1;33m=\u001b[0m \u001b[0msoup\u001b[0m\u001b[1;33m.\u001b[0m\u001b[0mfind\u001b[0m\u001b[1;33m(\u001b[0m\u001b[0mid\u001b[0m\u001b[1;33m=\u001b[0m\u001b[1;34m'contents_layer_1'\u001b[0m\u001b[1;33m)\u001b[0m\u001b[1;33m.\u001b[0m\u001b[0mtext\u001b[0m \u001b[1;31m# 개행 없이 지워버리고 분석하곘다.\u001b[0m\u001b[1;33m\u001b[0m\u001b[0m\n\u001b[0m\u001b[0;32m      4\u001b[0m \u001b[0manswer_body\u001b[0m \u001b[1;33m=\u001b[0m \u001b[0mre\u001b[0m\u001b[1;33m.\u001b[0m\u001b[0msub\u001b[0m\u001b[1;33m(\u001b[0m\u001b[1;34m'\\.'\u001b[0m\u001b[1;33m,\u001b[0m \u001b[1;34m'\\n'\u001b[0m\u001b[1;33m,\u001b[0m \u001b[0mre\u001b[0m\u001b[1;33m.\u001b[0m\u001b[0msub\u001b[0m\u001b[1;33m(\u001b[0m\u001b[1;34m'\\n'\u001b[0m\u001b[1;33m,\u001b[0m\u001b[1;34m''\u001b[0m\u001b[1;33m,\u001b[0m \u001b[0manswer_body\u001b[0m\u001b[1;33m)\u001b[0m\u001b[1;33m)\u001b[0m\u001b[1;33m\u001b[0m\u001b[0m\n\u001b[0;32m      5\u001b[0m \u001b[1;33m\u001b[0m\u001b[0m\n",
      "\u001b[1;31mAttributeError\u001b[0m: 'NoneType' object has no attribute 'text'"
     ]
    }
   ],
   "source": [
    "answer = []\n",
    "\n",
    "answer_body = soup.find(id='contents_layer_1').text # 개행 없이 지워버리고 분석하곘다. \n",
    "answer_body = re.sub('\\.', '\\n', re.sub('\\n','', answer_body))\n",
    "\n",
    "answer_body\n",
    "answer.append(answer_body)\n",
    "total_answer = ''.join(answer_body)\n",
    "lines = total_answer.split('\\n')\n",
    "print(lines)\n",
    "twitter = Twitter()\n",
    "result = []\n",
    "for line in lines:\n",
    "    answer_anal = twitter.pos(line, stem=True, norm=True)\n",
    "    r = []\n",
    "    for word in answer_anal:\n",
    "        if word[1] not in ['Josa','Eomi','Punctuation']:\n",
    "            r.append(word[0])\n",
    "    rl = (\" \".join(r)).strip()\n",
    "    print(rl)"
   ]
  },
  {
   "cell_type": "code",
   "execution_count": 238,
   "metadata": {
    "scrolled": true
   },
   "outputs": [],
   "source": [
    "import urllib.request as req\n",
    "import urllib\n",
    "import time \n",
    "\n",
    "url_list = []\n",
    "\n",
    "for i in range(1,11):\n",
    "    start ='&start={}'.format(i)\n",
    "    reqURL = defaultURL + sort + start + display + query\n",
    "    request = urllib.request.Request(reqURL)\n",
    "    request.add_header('X-Naver-Client-Id', 'jTTJH_TpFzOoiAANdSvd')\n",
    "    request.add_header('X-Naver-Client-Secret','6hDGOZfeUp')    \n",
    "    response = urllib.request.urlopen(request)\n",
    "    rescode = response.getcode()\n",
    "  \n",
    "    if rescode == 200:\n",
    "        response_body = response.read().decode('utf-8')\n",
    "        jsonObj = json.loads(response_body)\n",
    "    \n",
    "        for item in jsonObj['items']:\n",
    "            url_list.append(item['link'])\n",
    "    else:\n",
    "        print('에러 발생! 쀼쀼쀼쀼쀼 {}'.format(rescode))\n",
    "        time.sleep(0.5)"
   ]
  },
  {
   "cell_type": "code",
   "execution_count": 247,
   "metadata": {},
   "outputs": [
    {
     "name": "stdout",
     "output_type": "stream",
     "text": [
      "https://kin.naver.com/qna/detail.nhn?d1id=9&dirId=902&docId=304257192&qb=7ZW07Jm4IOuwsOuCreyXrO2WiQ==&enc=utf8&section=kin.qna&rank=1&search_sort=0&spq=0\n",
      "https://kin.naver.com/qna/detail.nhn?d1id=9&dirId=90201&docId=291209832&qb=7ZW07Jm4IOuwsOuCreyXrO2WiQ==&enc=utf8&section=kin.qna&rank=2&search_sort=0&spq=0\n",
      "https://kin.naver.com/qna/detail.nhn?d1id=9&dirId=90201&docId=289417040&qb=7ZW07Jm4IOuwsOuCreyXrO2WiQ==&enc=utf8&section=kin.qna&rank=3&search_sort=0&spq=0\n",
      "https://kin.naver.com/qna/detail.nhn?d1id=9&dirId=902&docId=290081388&qb=7ZW07Jm4IOuwsOuCreyXrO2WiQ==&enc=utf8&section=kin.qna&rank=4&search_sort=0&spq=0\n",
      "https://kin.naver.com/qna/detail.nhn?d1id=9&dirId=90203&docId=291778886&qb=7ZW07Jm4IOuwsOuCreyXrO2WiQ==&enc=utf8&section=kin.qna&rank=5&search_sort=0&spq=0\n",
      "https://kin.naver.com/qna/detail.nhn?d1id=9&dirId=90203&docId=301422293&qb=7ZW07Jm4IOuwsOuCreyXrO2WiQ==&enc=utf8&section=kin.qna&rank=6&search_sort=0&spq=0\n",
      "https://kin.naver.com/qna/detail.nhn?d1id=9&dirId=90203&docId=286905857&qb=7ZW07Jm4IOuwsOuCreyXrO2WiQ==&enc=utf8&section=kin.qna&rank=7&search_sort=0&spq=0\n",
      "https://kin.naver.com/qna/detail.nhn?d1id=9&dirId=90203&docId=308401927&qb=7ZW07Jm4IOuwsOuCreyXrO2WiQ==&enc=utf8&section=kin.qna&rank=8&search_sort=0&spq=0\n",
      "https://kin.naver.com/qna/detail.nhn?d1id=9&dirId=902&docId=291085249&qb=7ZW07Jm4IOuwsOuCreyXrO2WiQ==&enc=utf8&section=kin.qna&rank=9&search_sort=0&spq=0\n",
      "https://kin.naver.com/qna/detail.nhn?d1id=9&dirId=902&docId=303378172&qb=7ZW07Jm4IOuwsOuCreyXrO2WiQ==&enc=utf8&section=kin.qna&rank=10&search_sort=0&spq=0\n",
      "https://kin.naver.com/qna/detail.nhn?d1id=9&dirId=90201&docId=291209832&qb=7ZW07Jm4IOuwsOuCreyXrO2WiQ==&enc=utf8&section=kin.qna&rank=2&search_sort=0&spq=0\n",
      "https://kin.naver.com/qna/detail.nhn?d1id=9&dirId=90201&docId=289417040&qb=7ZW07Jm4IOuwsOuCreyXrO2WiQ==&enc=utf8&section=kin.qna&rank=3&search_sort=0&spq=0\n",
      "https://kin.naver.com/qna/detail.nhn?d1id=9&dirId=902&docId=290081388&qb=7ZW07Jm4IOuwsOuCreyXrO2WiQ==&enc=utf8&section=kin.qna&rank=4&search_sort=0&spq=0\n",
      "https://kin.naver.com/qna/detail.nhn?d1id=9&dirId=90203&docId=291778886&qb=7ZW07Jm4IOuwsOuCreyXrO2WiQ==&enc=utf8&section=kin.qna&rank=5&search_sort=0&spq=0\n",
      "https://kin.naver.com/qna/detail.nhn?d1id=9&dirId=90203&docId=301422293&qb=7ZW07Jm4IOuwsOuCreyXrO2WiQ==&enc=utf8&section=kin.qna&rank=6&search_sort=0&spq=0\n",
      "https://kin.naver.com/qna/detail.nhn?d1id=9&dirId=90203&docId=286905857&qb=7ZW07Jm4IOuwsOuCreyXrO2WiQ==&enc=utf8&section=kin.qna&rank=7&search_sort=0&spq=0\n",
      "https://kin.naver.com/qna/detail.nhn?d1id=9&dirId=90203&docId=308401927&qb=7ZW07Jm4IOuwsOuCreyXrO2WiQ==&enc=utf8&section=kin.qna&rank=8&search_sort=0&spq=0\n",
      "https://kin.naver.com/qna/detail.nhn?d1id=9&dirId=902&docId=291085249&qb=7ZW07Jm4IOuwsOuCreyXrO2WiQ==&enc=utf8&section=kin.qna&rank=9&search_sort=0&spq=0\n",
      "https://kin.naver.com/qna/detail.nhn?d1id=9&dirId=902&docId=303378172&qb=7ZW07Jm4IOuwsOuCreyXrO2WiQ==&enc=utf8&section=kin.qna&rank=10&search_sort=0&spq=0\n",
      "https://kin.naver.com/qna/detail.nhn?d1id=9&dirId=902&docId=264745262&qb=7ZW07Jm4IOuwsOuCreyXrO2WiQ==&enc=utf8&section=kin.qna&rank=11&search_sort=0&spq=0\n",
      "https://kin.naver.com/qna/detail.nhn?d1id=9&dirId=90201&docId=289417040&qb=7ZW07Jm4IOuwsOuCreyXrO2WiQ==&enc=utf8&section=kin.qna&rank=3&search_sort=0&spq=0\n",
      "https://kin.naver.com/qna/detail.nhn?d1id=9&dirId=902&docId=290081388&qb=7ZW07Jm4IOuwsOuCreyXrO2WiQ==&enc=utf8&section=kin.qna&rank=4&search_sort=0&spq=0\n",
      "https://kin.naver.com/qna/detail.nhn?d1id=9&dirId=902&docId=303378172&qb=7ZW07Jm4IOuwsOuCreyXrO2WiQ==&enc=utf8&section=kin.qna&rank=5&search_sort=0&spq=0\n",
      "https://kin.naver.com/qna/detail.nhn?d1id=9&dirId=902&docId=291085249&qb=7ZW07Jm4IOuwsOuCreyXrO2WiQ==&enc=utf8&section=kin.qna&rank=6&search_sort=0&spq=0\n",
      "https://kin.naver.com/qna/detail.nhn?d1id=9&dirId=902&docId=215670139&qb=7ZW07Jm4IOuwsOuCreyXrO2WiQ==&enc=utf8&section=kin.qna&rank=7&search_sort=0&spq=0\n",
      "https://kin.naver.com/qna/detail.nhn?d1id=9&dirId=902&docId=214999416&qb=7ZW07Jm4IOuwsOuCreyXrO2WiQ==&enc=utf8&section=kin.qna&rank=8&search_sort=0&spq=0\n",
      "https://kin.naver.com/qna/detail.nhn?d1id=9&dirId=902&docId=264745262&qb=7ZW07Jm4IOuwsOuCreyXrO2WiQ==&enc=utf8&section=kin.qna&rank=9&search_sort=0&spq=0\n",
      "https://kin.naver.com/qna/detail.nhn?d1id=9&dirId=90203&docId=118713233&qb=7ZW07Jm4IOuwsOuCreyXrO2WiQ==&enc=utf8&section=kin.qna&rank=10&search_sort=0&spq=0\n",
      "https://kin.naver.com/qna/detail.nhn?d1id=9&dirId=9020104&docId=226917732&qb=7ZW07Jm4IOuwsOuCreyXrO2WiQ==&enc=utf8&section=kin.qna&rank=11&search_sort=0&spq=0\n",
      "https://kin.naver.com/qna/detail.nhn?d1id=9&dirId=902&docId=216708277&qb=7ZW07Jm4IOuwsOuCreyXrO2WiQ==&enc=utf8&section=kin.qna&rank=12&search_sort=0&spq=0\n",
      "https://kin.naver.com/qna/detail.nhn?d1id=9&dirId=902&docId=290081388&qb=7ZW07Jm4IOuwsOuCreyXrO2WiQ==&enc=utf8&section=kin.qna&rank=4&search_sort=0&spq=0\n",
      "https://kin.naver.com/qna/detail.nhn?d1id=9&dirId=90203&docId=291778886&qb=7ZW07Jm4IOuwsOuCreyXrO2WiQ==&enc=utf8&section=kin.qna&rank=5&search_sort=0&spq=0\n",
      "https://kin.naver.com/qna/detail.nhn?d1id=9&dirId=90203&docId=301422293&qb=7ZW07Jm4IOuwsOuCreyXrO2WiQ==&enc=utf8&section=kin.qna&rank=6&search_sort=0&spq=0\n",
      "https://kin.naver.com/qna/detail.nhn?d1id=9&dirId=90203&docId=286905857&qb=7ZW07Jm4IOuwsOuCreyXrO2WiQ==&enc=utf8&section=kin.qna&rank=7&search_sort=0&spq=0\n",
      "https://kin.naver.com/qna/detail.nhn?d1id=9&dirId=90203&docId=308401927&qb=7ZW07Jm4IOuwsOuCreyXrO2WiQ==&enc=utf8&section=kin.qna&rank=8&search_sort=0&spq=0\n",
      "https://kin.naver.com/qna/detail.nhn?d1id=9&dirId=902&docId=291085249&qb=7ZW07Jm4IOuwsOuCreyXrO2WiQ==&enc=utf8&section=kin.qna&rank=9&search_sort=0&spq=0\n",
      "https://kin.naver.com/qna/detail.nhn?d1id=9&dirId=902&docId=303378172&qb=7ZW07Jm4IOuwsOuCreyXrO2WiQ==&enc=utf8&section=kin.qna&rank=10&search_sort=0&spq=0\n",
      "https://kin.naver.com/qna/detail.nhn?d1id=9&dirId=902&docId=264745262&qb=7ZW07Jm4IOuwsOuCreyXrO2WiQ==&enc=utf8&section=kin.qna&rank=11&search_sort=0&spq=0\n",
      "https://kin.naver.com/qna/detail.nhn?d1id=9&dirId=9020104&docId=226917732&qb=7ZW07Jm4IOuwsOuCreyXrO2WiQ==&enc=utf8&section=kin.qna&rank=12&search_sort=0&spq=0\n",
      "https://kin.naver.com/qna/detail.nhn?d1id=9&dirId=90203&docId=118713233&qb=7ZW07Jm4IOuwsOuCreyXrO2WiQ==&enc=utf8&section=kin.qna&rank=13&search_sort=0&spq=0\n",
      "https://kin.naver.com/qna/detail.nhn?d1id=9&dirId=902&docId=303378172&qb=7ZW07Jm4IOuwsOuCreyXrO2WiQ==&enc=utf8&section=kin.qna&rank=5&search_sort=0&spq=0\n",
      "https://kin.naver.com/qna/detail.nhn?d1id=9&dirId=902&docId=291085249&qb=7ZW07Jm4IOuwsOuCreyXrO2WiQ==&enc=utf8&section=kin.qna&rank=6&search_sort=0&spq=0\n",
      "https://kin.naver.com/qna/detail.nhn?d1id=9&dirId=902&docId=215670139&qb=7ZW07Jm4IOuwsOuCreyXrO2WiQ==&enc=utf8&section=kin.qna&rank=7&search_sort=0&spq=0\n",
      "https://kin.naver.com/qna/detail.nhn?d1id=9&dirId=902&docId=214999416&qb=7ZW07Jm4IOuwsOuCreyXrO2WiQ==&enc=utf8&section=kin.qna&rank=8&search_sort=0&spq=0\n",
      "https://kin.naver.com/qna/detail.nhn?d1id=9&dirId=902&docId=264745262&qb=7ZW07Jm4IOuwsOuCreyXrO2WiQ==&enc=utf8&section=kin.qna&rank=9&search_sort=0&spq=0\n",
      "https://kin.naver.com/qna/detail.nhn?d1id=9&dirId=90203&docId=118713233&qb=7ZW07Jm4IOuwsOuCreyXrO2WiQ==&enc=utf8&section=kin.qna&rank=10&search_sort=0&spq=0\n",
      "https://kin.naver.com/qna/detail.nhn?d1id=9&dirId=9020104&docId=226917732&qb=7ZW07Jm4IOuwsOuCreyXrO2WiQ==&enc=utf8&section=kin.qna&rank=11&search_sort=0&spq=0\n",
      "https://kin.naver.com/qna/detail.nhn?d1id=9&dirId=902&docId=216708277&qb=7ZW07Jm4IOuwsOuCreyXrO2WiQ==&enc=utf8&section=kin.qna&rank=12&search_sort=0&spq=0\n",
      "https://kin.naver.com/qna/detail.nhn?d1id=9&dirId=902&docId=153521562&qb=7ZW07Jm4IOuwsOuCreyXrO2WiQ==&enc=utf8&section=kin.qna&rank=13&search_sort=0&spq=0\n",
      "https://kin.naver.com/qna/detail.nhn?d1id=9&dirId=902&docId=107374321&qb=7ZW07Jm4IOuwsOuCreyXrO2WiQ==&enc=utf8&section=kin.qna&rank=14&search_sort=0&spq=0\n",
      "https://kin.naver.com/qna/detail.nhn?d1id=9&dirId=90203&docId=301422293&qb=7ZW07Jm4IOuwsOuCreyXrO2WiQ==&enc=utf8&section=kin.qna&rank=6&search_sort=0&spq=0\n",
      "https://kin.naver.com/qna/detail.nhn?d1id=9&dirId=90203&docId=286905857&qb=7ZW07Jm4IOuwsOuCreyXrO2WiQ==&enc=utf8&section=kin.qna&rank=7&search_sort=0&spq=0\n",
      "https://kin.naver.com/qna/detail.nhn?d1id=9&dirId=90203&docId=308401927&qb=7ZW07Jm4IOuwsOuCreyXrO2WiQ==&enc=utf8&section=kin.qna&rank=8&search_sort=0&spq=0\n",
      "https://kin.naver.com/qna/detail.nhn?d1id=9&dirId=902&docId=291085249&qb=7ZW07Jm4IOuwsOuCreyXrO2WiQ==&enc=utf8&section=kin.qna&rank=9&search_sort=0&spq=0\n",
      "https://kin.naver.com/qna/detail.nhn?d1id=9&dirId=902&docId=303378172&qb=7ZW07Jm4IOuwsOuCreyXrO2WiQ==&enc=utf8&section=kin.qna&rank=10&search_sort=0&spq=0\n",
      "https://kin.naver.com/qna/detail.nhn?d1id=9&dirId=902&docId=264745262&qb=7ZW07Jm4IOuwsOuCreyXrO2WiQ==&enc=utf8&section=kin.qna&rank=11&search_sort=0&spq=0\n",
      "https://kin.naver.com/qna/detail.nhn?d1id=9&dirId=9020104&docId=226917732&qb=7ZW07Jm4IOuwsOuCreyXrO2WiQ==&enc=utf8&section=kin.qna&rank=12&search_sort=0&spq=0\n",
      "https://kin.naver.com/qna/detail.nhn?d1id=9&dirId=90203&docId=118713233&qb=7ZW07Jm4IOuwsOuCreyXrO2WiQ==&enc=utf8&section=kin.qna&rank=13&search_sort=0&spq=0\n",
      "https://kin.naver.com/qna/detail.nhn?d1id=9&dirId=902&docId=216708277&qb=7ZW07Jm4IOuwsOuCreyXrO2WiQ==&enc=utf8&section=kin.qna&rank=14&search_sort=0&spq=0\n",
      "https://kin.naver.com/qna/detail.nhn?d1id=9&dirId=902&docId=153521562&qb=7ZW07Jm4IOuwsOuCreyXrO2WiQ==&enc=utf8&section=kin.qna&rank=15&search_sort=0&spq=0\n",
      "https://kin.naver.com/qna/detail.nhn?d1id=9&dirId=902&docId=291085249&qb=7ZW07Jm4IOuwsOuCreyXrO2WiQ==&enc=utf8&section=kin.qna&rank=7&search_sort=0&spq=0\n",
      "https://kin.naver.com/qna/detail.nhn?d1id=9&dirId=902&docId=214999416&qb=7ZW07Jm4IOuwsOuCreyXrO2WiQ==&enc=utf8&section=kin.qna&rank=8&search_sort=0&spq=0\n",
      "https://kin.naver.com/qna/detail.nhn?d1id=9&dirId=902&docId=264745262&qb=7ZW07Jm4IOuwsOuCreyXrO2WiQ==&enc=utf8&section=kin.qna&rank=9&search_sort=0&spq=0\n",
      "https://kin.naver.com/qna/detail.nhn?d1id=9&dirId=9020104&docId=226917732&qb=7ZW07Jm4IOuwsOuCreyXrO2WiQ==&enc=utf8&section=kin.qna&rank=10&search_sort=0&spq=0\n",
      "https://kin.naver.com/qna/detail.nhn?d1id=9&dirId=90203&docId=118713233&qb=7ZW07Jm4IOuwsOuCreyXrO2WiQ==&enc=utf8&section=kin.qna&rank=11&search_sort=0&spq=0\n",
      "https://kin.naver.com/qna/detail.nhn?d1id=9&dirId=902&docId=216708277&qb=7ZW07Jm4IOuwsOuCreyXrO2WiQ==&enc=utf8&section=kin.qna&rank=12&search_sort=0&spq=0\n",
      "https://kin.naver.com/qna/detail.nhn?d1id=9&dirId=902&docId=153521562&qb=7ZW07Jm4IOuwsOuCreyXrO2WiQ==&enc=utf8&section=kin.qna&rank=13&search_sort=0&spq=0\n",
      "https://kin.naver.com/qna/detail.nhn?d1id=9&dirId=902&docId=159780696&qb=7ZW07Jm4IOuwsOuCreyXrO2WiQ==&enc=utf8&section=kin.qna&rank=14&search_sort=0&spq=0\n",
      "https://kin.naver.com/qna/detail.nhn?d1id=9&dirId=902&docId=107374321&qb=7ZW07Jm4IOuwsOuCreyXrO2WiQ==&enc=utf8&section=kin.qna&rank=15&search_sort=0&spq=0\n",
      "https://kin.naver.com/qna/detail.nhn?d1id=9&dirId=9020401&docId=123295124&qb=7ZW07Jm4IOuwsOuCreyXrO2WiQ==&enc=utf8&section=kin.qna&rank=16&search_sort=0&spq=0\n",
      "https://kin.naver.com/qna/detail.nhn?d1id=9&dirId=902&docId=291085249&qb=7ZW07Jm4IOuwsOuCreyXrO2WiQ==&enc=utf8&section=kin.qna&rank=8&search_sort=0&spq=0\n",
      "https://kin.naver.com/qna/detail.nhn?d1id=9&dirId=902&docId=303378172&qb=7ZW07Jm4IOuwsOuCreyXrO2WiQ==&enc=utf8&section=kin.qna&rank=9&search_sort=0&spq=0\n",
      "https://kin.naver.com/qna/detail.nhn?d1id=9&dirId=902&docId=214999416&qb=7ZW07Jm4IOuwsOuCreyXrO2WiQ==&enc=utf8&section=kin.qna&rank=10&search_sort=0&spq=0\n",
      "https://kin.naver.com/qna/detail.nhn?d1id=9&dirId=902&docId=264745262&qb=7ZW07Jm4IOuwsOuCreyXrO2WiQ==&enc=utf8&section=kin.qna&rank=11&search_sort=0&spq=0\n",
      "https://kin.naver.com/qna/detail.nhn?d1id=9&dirId=9020104&docId=226917732&qb=7ZW07Jm4IOuwsOuCreyXrO2WiQ==&enc=utf8&section=kin.qna&rank=12&search_sort=0&spq=0\n",
      "https://kin.naver.com/qna/detail.nhn?d1id=9&dirId=90203&docId=118713233&qb=7ZW07Jm4IOuwsOuCreyXrO2WiQ==&enc=utf8&section=kin.qna&rank=13&search_sort=0&spq=0\n",
      "https://kin.naver.com/qna/detail.nhn?d1id=9&dirId=902&docId=216708277&qb=7ZW07Jm4IOuwsOuCreyXrO2WiQ==&enc=utf8&section=kin.qna&rank=14&search_sort=0&spq=0\n",
      "https://kin.naver.com/qna/detail.nhn?d1id=9&dirId=902&docId=153521562&qb=7ZW07Jm4IOuwsOuCreyXrO2WiQ==&enc=utf8&section=kin.qna&rank=15&search_sort=0&spq=0\n",
      "https://kin.naver.com/qna/detail.nhn?d1id=9&dirId=902&docId=159780696&qb=7ZW07Jm4IOuwsOuCreyXrO2WiQ==&enc=utf8&section=kin.qna&rank=16&search_sort=0&spq=0\n",
      "https://kin.naver.com/qna/detail.nhn?d1id=9&dirId=902&docId=107374321&qb=7ZW07Jm4IOuwsOuCreyXrO2WiQ==&enc=utf8&section=kin.qna&rank=17&search_sort=0&spq=0\n",
      "https://kin.naver.com/qna/detail.nhn?d1id=9&dirId=902&docId=264745262&qb=7ZW07Jm4IOuwsOuCreyXrO2WiQ==&enc=utf8&section=kin.qna&rank=9&search_sort=0&spq=0\n",
      "https://kin.naver.com/qna/detail.nhn?d1id=9&dirId=9020104&docId=226917732&qb=7ZW07Jm4IOuwsOuCreyXrO2WiQ==&enc=utf8&section=kin.qna&rank=10&search_sort=0&spq=0\n",
      "https://kin.naver.com/qna/detail.nhn?d1id=9&dirId=90203&docId=118713233&qb=7ZW07Jm4IOuwsOuCreyXrO2WiQ==&enc=utf8&section=kin.qna&rank=11&search_sort=0&spq=0\n",
      "https://kin.naver.com/qna/detail.nhn?d1id=9&dirId=902&docId=216708277&qb=7ZW07Jm4IOuwsOuCreyXrO2WiQ==&enc=utf8&section=kin.qna&rank=12&search_sort=0&spq=0\n",
      "https://kin.naver.com/qna/detail.nhn?d1id=9&dirId=902&docId=153521562&qb=7ZW07Jm4IOuwsOuCreyXrO2WiQ==&enc=utf8&section=kin.qna&rank=13&search_sort=0&spq=0\n",
      "https://kin.naver.com/qna/detail.nhn?d1id=9&dirId=902&docId=159780696&qb=7ZW07Jm4IOuwsOuCreyXrO2WiQ==&enc=utf8&section=kin.qna&rank=14&search_sort=0&spq=0\n",
      "https://kin.naver.com/qna/detail.nhn?d1id=9&dirId=902&docId=107374321&qb=7ZW07Jm4IOuwsOuCreyXrO2WiQ==&enc=utf8&section=kin.qna&rank=15&search_sort=0&spq=0\n",
      "https://kin.naver.com/qna/detail.nhn?d1id=9&dirId=9020401&docId=123295124&qb=7ZW07Jm4IOuwsOuCreyXrO2WiQ==&enc=utf8&section=kin.qna&rank=16&search_sort=0&spq=0\n",
      "https://kin.naver.com/qna/detail.nhn?d1id=9&dirId=902&docId=133076787&qb=7ZW07Jm4IOuwsOuCreyXrO2WiQ==&enc=utf8&section=kin.qna&rank=17&search_sort=0&spq=0\n",
      "https://kin.naver.com/qna/detail.nhn?d1id=9&dirId=90203&docId=74634661&qb=7ZW07Jm4IOuwsOuCreyXrO2WiQ==&enc=utf8&section=kin.qna&rank=18&search_sort=0&spq=0\n",
      "https://kin.naver.com/qna/detail.nhn?d1id=9&dirId=9020104&docId=226917732&qb=7ZW07Jm4IOuwsOuCreyXrO2WiQ==&enc=utf8&section=kin.qna&rank=10&search_sort=0&spq=0\n",
      "https://kin.naver.com/qna/detail.nhn?d1id=9&dirId=90203&docId=118713233&qb=7ZW07Jm4IOuwsOuCreyXrO2WiQ==&enc=utf8&section=kin.qna&rank=11&search_sort=0&spq=0\n",
      "https://kin.naver.com/qna/detail.nhn?d1id=9&dirId=902&docId=216708277&qb=7ZW07Jm4IOuwsOuCreyXrO2WiQ==&enc=utf8&section=kin.qna&rank=12&search_sort=0&spq=0\n",
      "https://kin.naver.com/qna/detail.nhn?d1id=9&dirId=902&docId=153521562&qb=7ZW07Jm4IOuwsOuCreyXrO2WiQ==&enc=utf8&section=kin.qna&rank=13&search_sort=0&spq=0\n",
      "https://kin.naver.com/qna/detail.nhn?d1id=9&dirId=902&docId=159780696&qb=7ZW07Jm4IOuwsOuCreyXrO2WiQ==&enc=utf8&section=kin.qna&rank=14&search_sort=0&spq=0\n",
      "https://kin.naver.com/qna/detail.nhn?d1id=9&dirId=902&docId=107374321&qb=7ZW07Jm4IOuwsOuCreyXrO2WiQ==&enc=utf8&section=kin.qna&rank=15&search_sort=0&spq=0\n",
      "https://kin.naver.com/qna/detail.nhn?d1id=9&dirId=9020401&docId=123295124&qb=7ZW07Jm4IOuwsOuCreyXrO2WiQ==&enc=utf8&section=kin.qna&rank=16&search_sort=0&spq=0\n",
      "https://kin.naver.com/qna/detail.nhn?d1id=9&dirId=902&docId=133076787&qb=7ZW07Jm4IOuwsOuCreyXrO2WiQ==&enc=utf8&section=kin.qna&rank=17&search_sort=0&spq=0\n",
      "https://kin.naver.com/qna/detail.nhn?d1id=9&dirId=90203&docId=74634661&qb=7ZW07Jm4IOuwsOuCreyXrO2WiQ==&enc=utf8&section=kin.qna&rank=18&search_sort=0&spq=0\n",
      "https://kin.naver.com/qna/detail.nhn?d1id=9&dirId=902&docId=193732782&qb=7ZW07Jm4IOuwsOuCreyXrO2WiQ==&enc=utf8&section=kin.qna&rank=19&search_sort=0&spq=0\n"
     ]
    }
   ],
   "source": [
    "for url in url_list:\n",
    "    print(url)"
   ]
  },
  {
   "cell_type": "code",
   "execution_count": 251,
   "metadata": {},
   "outputs": [
    {
     "ename": "AttributeError",
     "evalue": "'NoneType' object has no attribute 'text'",
     "output_type": "error",
     "traceback": [
      "\u001b[1;31m---------------------------------------------------------------------------\u001b[0m",
      "\u001b[1;31mAttributeError\u001b[0m                            Traceback (most recent call last)",
      "\u001b[1;32m<ipython-input-251-953aec7e46f5>\u001b[0m in \u001b[0;36m<module>\u001b[1;34m()\u001b[0m\n\u001b[0;32m      2\u001b[0m     \u001b[0mres\u001b[0m \u001b[1;33m=\u001b[0m \u001b[0mreq\u001b[0m\u001b[1;33m.\u001b[0m\u001b[0murlopen\u001b[0m\u001b[1;33m(\u001b[0m\u001b[0murl\u001b[0m\u001b[1;33m)\u001b[0m\u001b[1;33m\u001b[0m\u001b[0m\n\u001b[0;32m      3\u001b[0m     \u001b[0msoup\u001b[0m \u001b[1;33m=\u001b[0m \u001b[0mBeautifulSoup\u001b[0m\u001b[1;33m(\u001b[0m\u001b[0mres\u001b[0m\u001b[1;33m,\u001b[0m \u001b[1;34m'html.parser'\u001b[0m\u001b[1;33m)\u001b[0m\u001b[1;33m\u001b[0m\u001b[0m\n\u001b[1;32m----> 4\u001b[1;33m     \u001b[0manswer_body\u001b[0m \u001b[1;33m=\u001b[0m \u001b[0msoup\u001b[0m\u001b[1;33m.\u001b[0m\u001b[0mfind\u001b[0m\u001b[1;33m(\u001b[0m\u001b[0mid\u001b[0m\u001b[1;33m=\u001b[0m\u001b[1;34m'contents_layer_1'\u001b[0m\u001b[1;33m)\u001b[0m\u001b[1;33m.\u001b[0m\u001b[0mtext\u001b[0m\u001b[1;33m.\u001b[0m\u001b[0mreplace\u001b[0m\u001b[1;33m(\u001b[0m\u001b[1;34m'\\n'\u001b[0m\u001b[1;33m,\u001b[0m\u001b[1;34m''\u001b[0m\u001b[1;33m)\u001b[0m \u001b[1;31m# 개행 없이 지워버리고 분석하곘다.\u001b[0m\u001b[1;33m\u001b[0m\u001b[0m\n\u001b[0m\u001b[0;32m      5\u001b[0m     \u001b[0manswer_body\u001b[0m\u001b[1;33m\u001b[0m\u001b[0m\n",
      "\u001b[1;31mAttributeError\u001b[0m: 'NoneType' object has no attribute 'text'"
     ]
    }
   ],
   "source": [
    "for url in url_list:\n",
    "    res = req.urlopen(url)\n",
    "    soup = BeautifulSoup(res, 'html.parser')\n",
    "    answer_body = soup.find(id='contents_layer_1').text.replace('\\n','') # 개행 없이 지워버리고 분석하곘다. \n",
    "    answer_body"
   ]
  },
  {
   "cell_type": "code",
   "execution_count": null,
   "metadata": {},
   "outputs": [],
   "source": [
    "url = 'item[\"link\"]'\n",
    "            res = req.urlopen(url)\n",
    "            soup = BeautifulSoup(res, 'html.parser')\n",
    "            answer_body = soup.find(id='articleBody').text.replace('\\n','') # 개행 없이 지워버리고 분석하곘다. \n",
    "            answer_body\n",
    "    else:\n",
    "        print('에러 발생! 쀼쀼쀼쀼쀼 {}'.format(rescode))\n",
    "        time.sleep(0.5)\n",
    "    print()"
   ]
  },
  {
   "cell_type": "code",
   "execution_count": 248,
   "metadata": {
    "scrolled": true
   },
   "outputs": [
    {
     "data": {
      "text/plain": [
       "' [103일, 프라하 인 - 파리 아웃, 최적루트, 전체 여행 지도 / 일정, 19333Km]프라하/체스키(4박) - 뮌헨/퓌센(3) - 인터라켄/루체른(4) - (fly, 1574Km) - 마드리드/톨레도/세고비아(3) - (fly, 513Km) - 포르투(2) - 리스본(3) - (fly, 464Km) - 세비야(2) - 론다/그라나다(2) - (fly, 850Km) - 바르셀로나(3) - (fly or train, 413Km) - 아를/아비뇽(2) - 엑상프로방스(1) - 니스/에즈/모나코(4) - (fly, 681Km) - 로마/바티칸(4) - 나폴리/아말피(2) - 피렌체(2) - 베니스(1) - 자드레브(3) - 스플리트(2) - 두브로브니크(3) - (fly, 1314Km) - 산토리니(3) - (fly) - 아테네(3) - (fly, 1471Km) - 부다페스트(4) - 크라쿠프(4) - 바르샤바(2) - (fly, 573) - 베를린/포츠담(4) - (fly, 430Km) - 코펜하겐(3) - (fly, 609Km) - 스톡홀름(3) - (fly, 523Km) - 오슬로(3) - (fly to AES, 543Km) - 게이랑허피요르드(2) - 송네피요르드(1) - 베르겐(2) - 스타방거/펄핏락(3) - (fly, 1314Km) - 암스테르담(3) - 브뤼셀(1) - (fly, 364Km) - 런던(4) - (fly, 556Km) - 더블린 - (fly, 1030Km) - 파리(4) out*** 자세한 루트, 지도 클릭 ****\"무엇을 좋아하는지 몰라서 일단 다 준비해봤어,,,,\" 정도의 질문이 등장하면,\"유럽의 인기 여행지를 거의 대부분 포함하는 여정이야...\" 하면서,\\xa0위의 여행 지도를 내놓는데,유럼에 대해서 위의 여행 지도를 출발점으로 가고 싶은 도시/지역을 일단 정하면 됩니다.----* 한달 정도라면, 아래의 스페인 또는 동유럽 포함 여부에 따라서 달라지니,아래를 참고해서 여행 준비에 지치지 말고 나만의 여정을 만들어 보세요~* 그리고 도시가 정해지면, \"로마 인 - 파리 아웃\" 같은 유럽 인/아웃은 컴퓨터의 도움으로 최적 루트를 쉽게 만들 수 있습니다.\\xa0* 사라하 사막 (예, 모로코 메르주가), 시베리아 횡단철도 TSR 은 포함할 경우 각각 +7일 정도 필요한 것을 감안하세요.-----* 스페인 포함[32일, 런던 인 - 마드리드 아웃, 최적루트, 전체 여행 지도 / 일정, 5418Km]런던(4박) - (fly or train) - 파리/베르사유(4) - (fly or train) - 인터라켄/루체른(4) - (fly, 530Km) - 베니스(2) - 피렌체(2) 로마/바티칸(3) - (fly, 680Km) - 니스/모나코(3) - (fly, 620Km) - 바르셀로나(3) - (fly, 850Km) - 그라나다/론다/세비야(4) - (fly or train, 550Km) - 마드리드/톨레도/세고비아(3) out*** 자세한 루트, 지도 클릭 **** 동유럽 포함[34일, 런던 인 - 로마 아웃, 최적루트, 전체 여행 지도 / 일정, 4751Km]런던(4박) - (fly or train) - 파리/베르사유(3) - (train or fly) - 인터라켄/루체른(3) - 퓌센/뮌헨/잘츠루브크/할슈타트(4) - 체스키/프라하(4) - 빈(2) - 부다페스트(3) - (fly, 720Km) - 베니스(2) - (fly, 558Km) - 니스/모나코(3) - (fly to FCO or train, 421Km) - 피렌체(2) - 로마/바티칸(3) out*** 자세한 루트, 지도 클릭 ***각각의 경우에,여행기간에 적합한 언급한 나라와 주변의 인기 여행지를 뽑고,각각의 도시에 머무는 적절한 기간과효율적인 이동 동선 모두를 고려해서,컴퓨터를 사용해서 최적루트를 계산하면 위의 지도의 여정으로 움직이면 됩니다.\\xa0그리고 스페인을 포함하는 여정의 경우,위의 \"런던 인 - 마드리드 아웃\"이 비행 편수도 많고 이동 효율적인 최적인아웃이지만,아래의 \"런던 인 - 로마 아웃\"도 선택할 수 있는 인아웃에 속하니항공권 가격 비교를 하고 선택하는 것이 좋겠네요.[런던 인 - 로마 아웃, 최적루트, 전체 여행 지도 / 일정, 5861Km]*** 자세한 루트, 지도 클릭 ***그리고 도시간 이동 거리가 먼 구간과 육상 이동이 오래 걸리는 구간은 항공 이동이 합리적이고(지도의 거리를 보면 답 나옴)프랑스, 스페인, 이탈리아는 패스 효용이 떨어지니, (추가 예약비 필요!!!!)위의 여정은 미리미리 항공과 철도 구간권을 예약해서 이동하는 것이 좋겠네요.(예, 스위스 - 니스, 육상 이동 오래 걸림)\\xa0이것저것 생각하기 귀찮다면 유레일을 구입하면 되는데,비용을 줄이고 싶다면, 패스 사용하지 말고, 미리미리 예약해서 가는 것이 합리적입니다.(위의 여정에서 굳이 패스를 한다면 스위스패스 정도,)경비는 천차만별이지만,\\xa0유럽 여행 경비는 (유럽 인아웃 항공권 + 유럽내 이동 비용 + 숙식 비용)으로 생각할 수 있고,유럽 여행자의 하루 숙식비용은 10만원 이상을 예상하는 것이 합리적입니다.위의 경우에 30일 내외라면, 언급된 비용은 가능하지만 다소 빠듯할 것으로 생각되고,이 경우에 가장 많은 비중을 차지하는 것이 숙박비기 때문에,아직 시간이 남아 있으니 어디를 정하지 말고 일단 지역별 숙소를 좀 알아보는 것이 좋겠네요.(편리함 : 호텔 > 에어비엔비 > 호스텔 , 비용은 거꾸로)아무쪼록 여행 준비에 스트레스 받지 말고, 유럽에서 멋진 추억 많이 만드세요~~~여행의 시작 - 어레인지----\\xa0* 부록, 파리 상세 일정[샹젤리제 숙소, 파란색 H 기준, \\xa0최적루트, 전체 여행 지도 / 일정]1일 (빨간색) : 숙소 - 베르사유 - 개선문/상젤리제 - 바토무슈 - 숙소2일 (주황색) : 숙소 - 루브르 - 노틀담 - 마르스광장/에펠탑 \\xa0- 숙소3일 (노란색) : 숙소 - 오페라 가르니에/라파예트 백화점 - 몽마르트 - 숙소*** 자세한 루트, 지도 클릭 ***그리고 파리의 여정은,\\xa0파리의 인기 여행지를 뽑고,상젤리제 숙소를 기준으로,각각의 스팟에 머무는 적절한 시간과 효율적인 이동 동선을 모두 고려해서,컴퓨터를 이용해서 파리의 최적루트를 만들면 위의 지도로 구성할 수 있습니다.[파리 인기 여행지 모두에 이동이 편리한 최적 호텔 지도 / 위치]* 다른 도시의 인기 여행지, 최적호텔은 \"전체 여행 지도 / 일정\"의 해당 도시 참조*\\xa0각각의 여행 장소의 이동은 \"전체 여행 지도 / 일정\"의 해당 도시/스팟의 \"길찾기 direction\" 참조----* 부록, 런던 상세 일정 [워털루 숙소, 주황색 H 기준, 최적루트, 전체 여행 지도 / 일정]*** 자세한 루트, 지도 클릭 ***[런던 확대, 워털루 숙소, 주황색 H 기준, 최적루트, 전체 여행 지도 / 일정]1일 (주황색) : 숙소(or 공항) - 웸블리 스타디엄 - (왕립 항공박물관 RAF) - 겜든마켓 - 네셔널 갤러리/트라팔가광장 - 숙소2일 (빨간색) : 숙소 - 웨스터민스터 - 세인트제임스/버킹엄 - 피카딜리 서커스 - 테이트 모던 - 런던 아이 - 숙소3일 (노란색) : 숙소 - 세인트 폴 대성당 - 런던 브리지 - 버로우마켓/더샤드 - 타워브리지 - 런던 타워 - 숙소4일 (연두색) : 숙소 - 세븐시스터즈 - 숙소(or 공항)*** 자세한 루트, 지도 클릭 ***그리고 런던의 여정은,\\xa0런던의 인기 여행지를 뽑고,워털루 숙소를 기준으로,각각의 스팟에 머무는 적절한 시간과 효율적인 이동 동선을 모두 고려해서,컴퓨터를 이용해서 파리의 최적루트를 계산하면위의 지도로 구성할 수 있습니다.----* 채택률이 낮으면 좋은 답을 찾기 어려우니, 도움이 되었다면 채택도 부탁드려요~2018.06.26. 12:28태그리스트#최적루트#최적인아웃#최적호텔#파리숙소#파리숙소추천#파리숙소위치#파리호텔#파리호텔추천#파리호텔위치#파리호스텔https://arrangy.com/s/ViTWiMBlOl표정표정좋아요 평가하기표정좋아요총:0유익해요총:0재밌어요총:0동의못해요총:0광고같아요총:0사용자 표시댓글신고'"
      ]
     },
     "execution_count": 248,
     "metadata": {},
     "output_type": "execute_result"
    }
   ],
   "source": [
    "url= 'https://kin.naver.com/qna/detail.nhn?d1id=9&dirId=902&docId=304257192&qb=7ZW07Jm4IOuwsOuCreyXrO2WiQ==&enc=utf8&section=kin.qna&rank=1&search_sort=0&spq=0'\n",
    "res = req.urlopen(url)\n",
    "soup = BeautifulSoup(res, 'html.parser')\n",
    "answer_body = soup.find(id='contents_layer_1').text.replace('\\n','') # 개행 없이 지워버리고 분석하곘다. \n",
    "answer_body"
   ]
  },
  {
   "cell_type": "code",
   "execution_count": 198,
   "metadata": {},
   "outputs": [
    {
     "name": "stdout",
     "output_type": "stream",
     "text": [
      "[('com', 'Alpha'), ('/', 'Punctuation'), ('s', 'Alpha'), ('/', 'Punctuation'), ('ViTWiMBlOl', 'Alpha'), ('표정', 'Noun'), ('표정', 'Noun'), ('좋다', 'Adjective'), ('평가', 'Noun'), ('하다', 'Verb'), ('표정', 'Noun'), ('좋다', 'Adjective'), ('총', 'Noun'), (':', 'Punctuation'), ('0', 'Number'), ('유익하다', 'Adjective'), ('총', 'Noun'), (':', 'Punctuation'), ('0', 'Number'), ('재밌다', 'Adjective'), ('총', 'Noun'), (':', 'Punctuation'), ('0', 'Number'), ('동의', 'Noun'), ('못', 'VerbPrefix'), ('하다', 'Verb'), ('총', 'Noun'), (':', 'Punctuation'), ('0', 'Number'), ('광고', 'Noun'), ('같다', 'Adjective'), ('총', 'Noun'), (':', 'Punctuation'), ('0', 'Number'), ('사용자', 'Noun'), ('표시', 'Noun'), ('댓글', 'Noun'), ('신고', 'Noun')]\n"
     ]
    }
   ],
   "source": [
    "answer_anal = twitter.pos(line, stem=True, norm=True)\n",
    "print(answer_anal)"
   ]
  },
  {
   "cell_type": "code",
   "execution_count": 200,
   "metadata": {
    "scrolled": true
   },
   "outputs": [
    {
     "name": "stdout",
     "output_type": "stream",
     "text": [
      "[' [103일, 프라하 인 - 파리 아웃, 최적루트, 전체 여행 지도 / 일정, 19333Km]프라하/체스키(4박) - 뮌헨/퓌센(3) - 인터라켄/루체른(4) - (fly, 1574Km) - 마드리드/톨레도/세고비아(3) - (fly, 513Km) - 포르투(2) - 리스본(3) - (fly, 464Km) - 세비야(2) - 론다/그라나다(2) - (fly, 850Km) - 바르셀로나(3) - (fly or train, 413Km) - 아를/아비뇽(2) - 엑상프로방스(1) - 니스/에즈/모나코(4) - (fly, 681Km) - 로마/바티칸(4) - 나폴리/아말피(2) - 피렌체(2) - 베니스(1) - 자드레브(3) - 스플리트(2) - 두브로브니크(3) - (fly, 1314Km) - 산토리니(3) - (fly) - 아테네(3) - (fly, 1471Km) - 부다페스트(4) - 크라쿠프(4) - 바르샤바(2) - (fly, 573) - 베를린/포츠담(4) - (fly, 430Km) - 코펜하겐(3) - (fly, 609Km) - 스톡홀름(3) - (fly, 523Km) - 오슬로(3) - (fly to AES, 543Km) - 게이랑허피요르드(2) - 송네피요르드(1) - 베르겐(2) - 스타방거/펄핏락(3) - (fly, 1314Km) - 암스테르담(3) - 브뤼셀(1) - (fly, 364Km) - 런던(4) - (fly, 556Km) - 더블린 - (fly, 1030Km) - 파리(4) out*** 자세한 루트, 지도 클릭 ****\"무엇을 좋아하는지 몰라서 일단 다 준비해봤어,,,,\" 정도의 질문이 등장하면,\"유럽의 인기 여행지를 거의 대부분 포함하는 여정이야', '', '', '\" 하면서,\\xa0위의 여행 지도를 내놓는데,유럼에 대해서 위의 여행 지도를 출발점으로 가고 싶은 도시/지역을 일단 정하면 됩니다', '----* 한달 정도라면, 아래의 스페인 또는 동유럽 포함 여부에 따라서 달라지니,아래를 참고해서 여행 준비에 지치지 말고 나만의 여정을 만들어 보세요~* 그리고 도시가 정해지면, \"로마 인 - 파리 아웃\" 같은 유럽 인/아웃은 컴퓨터의 도움으로 최적 루트를 쉽게 만들 수 있습니다', '\\xa0* 사라하 사막 (예, 모로코 메르주가), 시베리아 횡단철도 TSR 은 포함할 경우 각각 +7일 정도 필요한 것을 감안하세요', '-----* 스페인 포함[32일, 런던 인 - 마드리드 아웃, 최적루트, 전체 여행 지도 / 일정, 5418Km]런던(4박) - (fly or train) - 파리/베르사유(4) - (fly or train) - 인터라켄/루체른(4) - (fly, 530Km) - 베니스(2) - 피렌체(2) 로마/바티칸(3) - (fly, 680Km) - 니스/모나코(3) - (fly, 620Km) - 바르셀로나(3) - (fly, 850Km) - 그라나다/론다/세비야(4) - (fly or train, 550Km) - 마드리드/톨레도/세고비아(3) out*** 자세한 루트, 지도 클릭 **** 동유럽 포함[34일, 런던 인 - 로마 아웃, 최적루트, 전체 여행 지도 / 일정, 4751Km]런던(4박) - (fly or train) - 파리/베르사유(3) - (train or fly) - 인터라켄/루체른(3) - 퓌센/뮌헨/잘츠루브크/할슈타트(4) - 체스키/프라하(4) - 빈(2) - 부다페스트(3) - (fly, 720Km) - 베니스(2) - (fly, 558Km) - 니스/모나코(3) - (fly to FCO or train, 421Km) - 피렌체(2) - 로마/바티칸(3) out*** 자세한 루트, 지도 클릭 ***각각의 경우에,여행기간에 적합한 언급한 나라와 주변의 인기 여행지를 뽑고,각각의 도시에 머무는 적절한 기간과효율적인 이동 동선 모두를 고려해서,컴퓨터를 사용해서 최적루트를 계산하면 위의 지도의 여정으로 움직이면 됩니다', '\\xa0그리고 스페인을 포함하는 여정의 경우,위의 \"런던 인 - 마드리드 아웃\"이 비행 편수도 많고 이동 효율적인 최적인아웃이지만,아래의 \"런던 인 - 로마 아웃\"도 선택할 수 있는 인아웃에 속하니항공권 가격 비교를 하고 선택하는 것이 좋겠네요', '[런던 인 - 로마 아웃, 최적루트, 전체 여행 지도 / 일정, 5861Km]*** 자세한 루트, 지도 클릭 ***그리고 도시간 이동 거리가 먼 구간과 육상 이동이 오래 걸리는 구간은 항공 이동이 합리적이고(지도의 거리를 보면 답 나옴)프랑스, 스페인, 이탈리아는 패스 효용이 떨어지니, (추가 예약비 필요!!!!)위의 여정은 미리미리 항공과 철도 구간권을 예약해서 이동하는 것이 좋겠네요', '(예, 스위스 - 니스, 육상 이동 오래 걸림)\\xa0이것저것 생각하기 귀찮다면 유레일을 구입하면 되는데,비용을 줄이고 싶다면, 패스 사용하지 말고, 미리미리 예약해서 가는 것이 합리적입니다', '(위의 여정에서 굳이 패스를 한다면 스위스패스 정도,)경비는 천차만별이지만,\\xa0유럽 여행 경비는 (유럽 인아웃 항공권 + 유럽내 이동 비용 + 숙식 비용)으로 생각할 수 있고,유럽 여행자의 하루 숙식비용은 10만원 이상을 예상하는 것이 합리적입니다', '위의 경우에 30일 내외라면, 언급된 비용은 가능하지만 다소 빠듯할 것으로 생각되고,이 경우에 가장 많은 비중을 차지하는 것이 숙박비기 때문에,아직 시간이 남아 있으니 어디를 정하지 말고 일단 지역별 숙소를 좀 알아보는 것이 좋겠네요', '(편리함 : 호텔 > 에어비엔비 > 호스텔 , 비용은 거꾸로)아무쪼록 여행 준비에 스트레스 받지 말고, 유럽에서 멋진 추억 많이 만드세요~~~여행의 시작 - 어레인지----\\xa0* 부록, 파리 상세 일정[샹젤리제 숙소, 파란색 H 기준, \\xa0최적루트, 전체 여행 지도 / 일정]1일 (빨간색) : 숙소 - 베르사유 - 개선문/상젤리제 - 바토무슈 - 숙소2일 (주황색) : 숙소 - 루브르 - 노틀담 - 마르스광장/에펠탑 \\xa0- 숙소3일 (노란색) : 숙소 - 오페라 가르니에/라파예트 백화점 - 몽마르트 - 숙소*** 자세한 루트, 지도 클릭 ***그리고 파리의 여정은,\\xa0파리의 인기 여행지를 뽑고,상젤리제 숙소를 기준으로,각각의 스팟에 머무는 적절한 시간과 효율적인 이동 동선을 모두 고려해서,컴퓨터를 이용해서 파리의 최적루트를 만들면 위의 지도로 구성할 수 있습니다', '[파리 인기 여행지 모두에 이동이 편리한 최적 호텔 지도 / 위치]* 다른 도시의 인기 여행지, 최적호텔은 \"전체 여행 지도 / 일정\"의 해당 도시 참조*\\xa0각각의 여행 장소의 이동은 \"전체 여행 지도 / 일정\"의 해당 도시/스팟의 \"길찾기 direction\" 참조----* 부록, 런던 상세 일정 [워털루 숙소, 주황색 H 기준, 최적루트, 전체 여행 지도 / 일정]*** 자세한 루트, 지도 클릭 ***[런던 확대, 워털루 숙소, 주황색 H 기준, 최적루트, 전체 여행 지도 / 일정]1일 (주황색) : 숙소(or 공항) - 웸블리 스타디엄 - (왕립 항공박물관 RAF) - 겜든마켓 - 네셔널 갤러리/트라팔가광장 - 숙소2일 (빨간색) : 숙소 - 웨스터민스터 - 세인트제임스/버킹엄 - 피카딜리 서커스 - 테이트 모던 - 런던 아이 - 숙소3일 (노란색) : 숙소 - 세인트 폴 대성당 - 런던 브리지 - 버로우마켓/더샤드 - 타워브리지 - 런던 타워 - 숙소4일 (연두색) : 숙소 - 세븐시스터즈 - 숙소(or 공항)*** 자세한 루트, 지도 클릭 ***그리고 런던의 여정은,\\xa0런던의 인기 여행지를 뽑고,워털루 숙소를 기준으로,각각의 스팟에 머무는 적절한 시간과 효율적인 이동 동선을 모두 고려해서,컴퓨터를 이용해서 파리의 최적루트를 계산하면위의 지도로 구성할 수 있습니다', '----* 채택률이 낮으면 좋은 답을 찾기 어려우니, 도움이 되었다면 채택도 부탁드려요~2018', '06', '26', ' 12:28태그리스트#최적루트#최적인아웃#최적호텔#파리숙소#파리숙소추천#파리숙소위치#파리호텔#파리호텔추천#파리호텔위치#파리호스텔https://arrangy', 'com/s/ViTWiMBlOl표정표정좋아요 평가하기표정좋아요총:0유익해요총:0재밌어요총:0동의못해요총:0광고같아요총:0사용자 표시댓글신고']\n"
     ]
    }
   ],
   "source": [
    "answer = []\n",
    "\n",
    "\n",
    "url= 'https://kin.naver.com/qna/detail.nhn?d1id=9&dirId=902&docId=304257192&qb=7ZW07Jm4IOuwsOuCreyXrO2WiQ==&enc=utf8&section=kin.qna&rank=1&search_sort=0&spq=0'\n",
    "res = req.urlopen(url)\n",
    "soup = BeautifulSoup(res, 'html.parser')\n",
    "\n",
    "answer_body = soup.find(id='contents_layer_1').text # 개행 없이 지워버리고 분석하곘다. \n",
    "answer_body = re.sub('\\.', '\\n', re.sub('\\n','', answer_body))\n",
    "\n",
    "answer_body\n",
    "answer.append(answer_body)\n",
    "total_answer = ''.join(answer_body)\n",
    "lines = total_answer.split('\\n')\n",
    "print(lines)\n"
   ]
  },
  {
   "cell_type": "code",
   "execution_count": 194,
   "metadata": {
    "scrolled": true
   },
   "outputs": [
    {
     "name": "stdout",
     "output_type": "stream",
     "text": [
      "103일 프라하 인 파리 아웃 최적 루트 전체 여행 지도 일정 19333 Km 프라하 체 스키 4 박 뮌헨 퓌센 3 인터라켄 루체른 4 fly 1574 Km 마드리드 톨레도 세고비아 3 fly 513 Km 포르투 2 리스본 3 fly 464 Km 세비야 2 론다 그라나다 2 fly 850 Km 바르셀로나 3 fly or train 413 Km 아 아비뇽 2 엑상프로방스 1 니스 에즈 모나코 4 fly 681 Km 로마 바티칸 4 나폴리 아말피 2 피렌체 2 베니스 1 자드 레브 3 스플리트 2 두브로브니크 3 fly 1314 Km 산토리니 3 fly 아테네 3 fly 1471 Km 부다페스트 4 크라쿠프 4 바르샤바 2 fly 573 베를린 포츠담 4 fly 430 Km 코펜하겐 3 fly 609 Km 스톡홀름 3 fly 523 Km 오슬로 3 fly to AES 543 Km 게이 허다 피요르드 2 송 피요르드 1 베르겐 2 스타 방거 펄핏락 3 fly 1314 Km 암스테르담 3 브뤼셀 1 fly 364 Km 런던 4 fly 556 Km 더블린 fly 1030 Km 파리 4 out 자세하다 루트 지도 클릭 무엇 좋아하다 모르다 일단 다 준비 해봤다 정도 질문 등장 하다 유럽 인기 여행지 거의 대부분 포함 하다 여정\n",
      "\n",
      "\n",
      "하다   위 여행 지도 내놓다 유럼 대해 위 여행 지도 출발점 가다 싶다 도시 지역 일단 정 하다 되다\n",
      "한 달 정도 라면 아래 스페인 또는 동유럽 포함 여부 따라서 달라지다 아래 참고 하다 여행 준비 지치다 나 여정 만들다 보다 그리고 도시 정해지다 로마 인 파리 아웃 같다 유럽 인 아웃 컴퓨터 도움 최적 루트 쉬다 만들다 수 있다\n",
      "사라 하 사막 예 모로코 메르 주가 시베리아 횡단철 TSR 은 포함 하다 경우 각각 7일 정도 필요하다 것 감안 하다\n",
      "스페인 포함 32일 런던 인 마드리드 아웃 최적 루트 전체 여행 지도 일정 5418 Km 런던 4 박 fly or train 파리 베르사유 4 fly or train 인터라켄 루체른 4 fly 530 Km 베니스 2 피렌체 2 로마 바티칸 3 fly 680 Km 니스 모나코 3 fly 620 Km 바르셀로나 3 fly 850 Km 그라나다 론다 세비야 4 fly or train 550 Km 마드리드 톨레도 세고비아 3 out 자세하다 루트 지도 클릭 동유럽 포함 34일 런던 인 로마 아웃 최적 루트 전체 여행 지도 일정 4751 Km 런던 4 박 fly or train 파리 베르사유 3 train or fly 인터라켄 루체른 3 퓌센 뮌헨 잘츠루브크 할슈타트 4 체 스키 프라하 4 빈 2 부다페스트 3 fly 720 Km 베니스 2 fly 558 Km 니스 모나코 3 fly to FCO or train 421 Km 피렌체 2 로마 바티칸 3 out 자세하다 루트 지도 클릭 각각 경우 여행기 간 적합하다 언급 나라 주변 인기 여행지 뽑다 각각 도시 머물다 적절하다 기간 효율 적 이동 동선 모두 고려 하다 컴퓨터 사용 하다 최적 루트 계산 하다 위 지도 여정 움직이다 되다\n",
      "스페인 포함 하다 여정 경우 위 런던 인 마드리드 아웃 이 비행 편 수도 많다 이동 효율 적 최적 아웃 아래 런던 인 로마 아웃 도 선택 하다 수 있다 인 아웃 속 하니 항공권 가격 비교 하다 선택 하다 것 좋다\n",
      "런던 인 로마 아웃 최적 루트 전체 여행 지도 일정 5861 Km 자세하다 루트 지도 클릭 그리고 도시 간 이동 거리 멀다 구간 육상 이동 오래 걸리다 구간 항공 이동 합리 적 지도 거리 보다 답 나오다 프랑스 스페인 이탈리아 패스 효용 떨어지다 추가 예약 비 필요 위 여정 미리 미리 항공 철도 구간 권 예약 하다 이동 하다 것 좋다\n",
      "예 스위스 니스 육상 이동 오래 걸리다   이 것 저 것 생각 하다 귀찮다 유레일 구입 하다 되다 비용 줄 싶다 패스 사용 하다 미리 미리 예약 하다 가다 것 합리 적 이다\n",
      "위 여정 굳이 패스 하다 스위스 패스 정도 경비 천차만별   유럽 여행 경비 유럽 인 아웃 항공권 유럽 내 이동 비용 숙식 비용 생각 하다 수 있다 유럽 여행자 하루 숙식 비용 10만원 이상 예상 하다 것 합리 적 이다\n",
      "위 경우 30일 내외 라면 언급 되다 비용 가능하다 다소 빠듯할 것 생각 되다 이 경우 가장 많다 비중 차지 하다 것 숙박 비기다 때문 아직 시간 남아 있다 어디 정 하다 일단 지역별 숙소 좀 알아보다 것 좋다\n",
      "편리하다 호텔 에어 비엔비 호스텔 비용 거꾸로 아무쪼록 여행 준비 스트레스 받다 유럽 멋지다 추억 많이 만들다 여행 시작 어레   부록 파리 상세 일정 샹젤리제 숙소 파란색 H 기준 전체 여행 지도 일정 1일 빨간색 숙소 베르사유 개선문 상 젤리 제 바토 무슈 숙소 2일 주황색 숙소 루브르 노틀담 마르스 광장 에펠탑 숙소 3일 노란색 숙소 오페라 가르다 라파예트 백화점 몽마르트 숙소 자세하다 루트 지도 클릭 그리고 파리 여정   파리 인기 여행지 뽑다 상 젤리 제 숙소 기준 각각 스팟 머물다 적절하다 시간 효율 적 이동 동선 모두 고려 하다 컴퓨터 이용 하다 파리 최적 루트 만들다 위 지도 구성 하다 수 있다\n",
      "파리 인기 여행지 모두 이동 편리하다 최적 호텔 지도 위치 다른 도시 인기 여행지 최적 호텔 전체 여행 지도 일정 의 해당 도시 참조   각각 여행 장소 이동 전체 여행 지도 일정 의 해당 도시 스팟 길찾기 direction 참조 부록 런던 상세 일정 워털루 숙소 주황색 H 기준 최적 루트 전체 여행 지도 일정 자세하다 루트 지도 클릭 런던 확대 워털루 숙소 주황색 H 기준 최적 루트 전체 여행 지도 일정 1일 주황색 숙소 or 공항 웸블리 스타 디엄 왕립 항공 박물관 RAF 겜 마켓 네셔널 갤러리 트라팔가 광장 숙소 2일 빨간색 숙소 웨스터민스터 세인트제임스 버킹엄 피카딜리 서커스 테이 트 모던 런던 아이 숙소 3일 노란색 숙소 세인트 폴 대성당 런던 브리지 버 로우 마켓 더샤드 타워브리지 런던 타워 숙소 4일 연두색 숙소 세븐 시스터즈 숙소 or 공항 자세하다 루트 지도 클릭 그리고 런던 여정   런던 인기 여행지 뽑다 워털루 숙소 기준 각각 스팟 머물다 적절하다 시간 효율 적 이동 동선 모두 고려 하다 컴퓨터 이용 하다 파리 최적 루트 계산 하다 위 지도 구성 하다 수 있다\n",
      "채택 률 낮다 좋다 답 찾기 어리다 도움 되어다 채택 부탁드리다 2018\n",
      "06\n",
      "26\n",
      "12:28 태그 리스트 최적 루트 최적 아웃 최적 호텔 파리 숙소 파리 숙소 추천 파리 숙소 위치 파리 호텔 파리 호텔 추천 파리 호텔 위치 파리 호스텔 https arrangy\n",
      "com s ViTWiMBlOl 표정 표정 좋다 평가 하다 표정 좋다 총 0 유익하다 총 0 재밌다 총 0 동의 못 하다 총 0 광고 같다 총 0 사용자 표시 댓글 신고\n"
     ]
    },
    {
     "name": "stderr",
     "output_type": "stream",
     "text": [
      "C:\\Users\\tj\\Miniconda3\\lib\\site-packages\\konlpy\\tag\\_okt.py:16: UserWarning: \"Twitter\" has changed to \"Okt\" since KoNLPy v0.4.5.\n",
      "  warn('\"Twitter\" has changed to \"Okt\" since KoNLPy v0.4.5.')\n"
     ]
    }
   ],
   "source": [
    "twitter = Twitter()\n",
    "result = []\n",
    "for line in lines:\n",
    "    answer_anal = twitter.pos(line, stem=True, norm=True)\n",
    "    r = []\n",
    "    for word in answer_anal:\n",
    "        if word[1] not in ['Josa','Eomi','Punctuation']:\n",
    "            r.append(word[0])\n",
    "    rl = (\" \".join(r)).strip()\n",
    "    print(rl)"
   ]
  },
  {
   "cell_type": "code",
   "execution_count": 188,
   "metadata": {
    "scrolled": true
   },
   "outputs": [
    {
     "name": "stdout",
     "output_type": "stream",
     "text": [
      "[('', 2), ('103일 프라하 인 파리 아웃 최적 루트 전체 여행 지도 일정 19333 Km 프라하 체 스키 4 박 뮌헨 퓌센 3 인터라켄 루체른 4 fly 1574 Km 마드리드 톨레도 세고비아 3 fly 513 Km 포르투 2 리스본 3 fly 464 Km 세비야 2 론다 그라나다 2 fly 850 Km 바르셀로나 3 fly or train 413 Km 아 아비뇽 2 엑상프로방스 1 니스 에즈 모나코 4 fly 681 Km 로마 바티칸 4 나폴리 아말피 2 피렌체 2 베니스 1 자드 레브 3 스플리트 2 두브로브니크 3 fly 1314 Km 산토리니 3 fly 아테네 3 fly 1471 Km 부다페스트 4 크라쿠프 4 바르샤바 2 fly 573 베를린 포츠담 4 fly 430 Km 코펜하겐 3 fly 609 Km 스톡홀름 3 fly 523 Km 오슬로 3 fly to AES 543 Km 게이 허다 피요르드 2 송 피요르드 1 베르겐 2 스타 방거 펄핏락 3 fly 1314 Km 암스테르담 3 브뤼셀 1 fly 364 Km 런던 4 fly 556 Km 더블린 fly 1030 Km 파리 4 out 자세하다 루트 지도 클릭 무엇 좋아하다 모르다 일단 다 준비 해봤다 정도 질문 등장 하다 유럽 인기 여행지 거의 대부분 포함 하다 여정', 1), ('하다 \\xa0 위 여행 지도 내놓다 유럼 대해 위 여행 지도 출발점 가다 싶다 도시 지역 일단 정 하다 되다', 1), ('한 달 정도 라면 아래 스페인 또는 동유럽 포함 여부 따라서 달라지다 아래 참고 하다 여행 준비 지치다 나 여정 만들다 보다 그리고 도시 정해지다 로마 인 파리 아웃 같다 유럽 인 아웃 컴퓨터 도움 최적 루트 쉬다 만들다 수 있다', 1), ('사라 하 사막 예 모로코 메르 주가 시베리아 횡단철 TSR 은 포함 하다 경우 각각 7일 정도 필요하다 것 감안 하다', 1), ('스페인 포함 32일 런던 인 마드리드 아웃 최적 루트 전체 여행 지도 일정 5418 Km 런던 4 박 fly or train 파리 베르사유 4 fly or train 인터라켄 루체른 4 fly 530 Km 베니스 2 피렌체 2 로마 바티칸 3 fly 680 Km 니스 모나코 3 fly 620 Km 바르셀로나 3 fly 850 Km 그라나다 론다 세비야 4 fly or train 550 Km 마드리드 톨레도 세고비아 3 out 자세하다 루트 지도 클릭 동유럽 포함 34일 런던 인 로마 아웃 최적 루트 전체 여행 지도 일정 4751 Km 런던 4 박 fly or train 파리 베르사유 3 train or fly 인터라켄 루체른 3 퓌센 뮌헨 잘츠루브크 할슈타트 4 체 스키 프라하 4 빈 2 부다페스트 3 fly 720 Km 베니스 2 fly 558 Km 니스 모나코 3 fly to FCO or train 421 Km 피렌체 2 로마 바티칸 3 out 자세하다 루트 지도 클릭 각각 경우 여행기 간 적합하다 언급 나라 주변 인기 여행지 뽑다 각각 도시 머물다 적절하다 기간 효율 적 이동 동선 모두 고려 하다 컴퓨터 사용 하다 최적 루트 계산 하다 위 지도 여정 움직이다 되다', 1), ('스페인 포함 하다 여정 경우 위 런던 인 마드리드 아웃 이 비행 편 수도 많다 이동 효율 적 최적 아웃 아래 런던 인 로마 아웃 도 선택 하다 수 있다 인 아웃 속 하니 항공권 가격 비교 하다 선택 하다 것 좋다', 1), ('런던 인 로마 아웃 최적 루트 전체 여행 지도 일정 5861 Km 자세하다 루트 지도 클릭 그리고 도시 간 이동 거리 멀다 구간 육상 이동 오래 걸리다 구간 항공 이동 합리 적 지도 거리 보다 답 나오다 프랑스 스페인 이탈리아 패스 효용 떨어지다 추가 예약 비 필요 위 여정 미리 미리 항공 철도 구간 권 예약 하다 이동 하다 것 좋다', 1), ('예 스위스 니스 육상 이동 오래 걸리다 \\xa0 이 것 저 것 생각 하다 귀찮다 유레일 구입 하다 되다 비용 줄 싶다 패스 사용 하다 미리 미리 예약 하다 가다 것 합리 적 이다', 1), ('위 여정 굳이 패스 하다 스위스 패스 정도 경비 천차만별 \\xa0 유럽 여행 경비 유럽 인 아웃 항공권 유럽 내 이동 비용 숙식 비용 생각 하다 수 있다 유럽 여행자 하루 숙식 비용 10만원 이상 예상 하다 것 합리 적 이다', 1), ('위 경우 30일 내외 라면 언급 되다 비용 가능하다 다소 빠듯할 것 생각 되다 이 경우 가장 많다 비중 차지 하다 것 숙박 비기다 때문 아직 시간 남아 있다 어디 정 하다 일단 지역별 숙소 좀 알아보다 것 좋다', 1), ('편리하다 호텔 에어 비엔비 호스텔 비용 거꾸로 아무쪼록 여행 준비 스트레스 받다 유럽 멋지다 추억 많이 만들다 여행 시작 어레 \\xa0 부록 파리 상세 일정 샹젤리제 숙소 파란색 H 기준 전체 여행 지도 일정 1일 빨간색 숙소 베르사유 개선문 상 젤리 제 바토 무슈 숙소 2일 주황색 숙소 루브르 노틀담 마르스 광장 에펠탑 숙소 3일 노란색 숙소 오페라 가르다 라파예트 백화점 몽마르트 숙소 자세하다 루트 지도 클릭 그리고 파리 여정 \\xa0 파리 인기 여행지 뽑다 상 젤리 제 숙소 기준 각각 스팟 머물다 적절하다 시간 효율 적 이동 동선 모두 고려 하다 컴퓨터 이용 하다 파리 최적 루트 만들다 위 지도 구성 하다 수 있다', 1), ('파리 인기 여행지 모두 이동 편리하다 최적 호텔 지도 위치 다른 도시 인기 여행지 최적 호텔 전체 여행 지도 일정 의 해당 도시 참조 \\xa0 각각 여행 장소 이동 전체 여행 지도 일정 의 해당 도시 스팟 길찾기 direction 참조 부록 런던 상세 일정 워털루 숙소 주황색 H 기준 최적 루트 전체 여행 지도 일정 자세하다 루트 지도 클릭 런던 확대 워털루 숙소 주황색 H 기준 최적 루트 전체 여행 지도 일정 1일 주황색 숙소 or 공항 웸블리 스타 디엄 왕립 항공 박물관 RAF 겜 마켓 네셔널 갤러리 트라팔가 광장 숙소 2일 빨간색 숙소 웨스터민스터 세인트제임스 버킹엄 피카딜리 서커스 테이 트 모던 런던 아이 숙소 3일 노란색 숙소 세인트 폴 대성당 런던 브리지 버 로우 마켓 더샤드 타워브리지 런던 타워 숙소 4일 연두색 숙소 세븐 시스터즈 숙소 or 공항 자세하다 루트 지도 클릭 그리고 런던 여정 \\xa0 런던 인기 여행지 뽑다 워털루 숙소 기준 각각 스팟 머물다 적절하다 시간 효율 적 이동 동선 모두 고려 하다 컴퓨터 이용 하다 파리 최적 루트 계산 하다 위 지도 구성 하다 수 있다', 1), ('채택 률 낮다 좋다 답 찾기 어리다 도움 되어다 채택 부탁드리다 2018', 1), ('06', 1), ('26', 1), ('12:28 태그 리스트 최적 루트 최적 아웃 최적 호텔 파리 숙소 파리 숙소 추천 파리 숙소 위치 파리 호텔 파리 호텔 추천 파리 호텔 위치 파리 호스텔 https arrangy', 1), ('com s ViTWiMBlOl 표정 표정 좋다 평가 하다 표정 좋다 총 0 유익하다 총 0 재밌다 총 0 동의 못 하다 총 0 광고 같다 총 0 사용자 표시 댓글 신고', 1)]\n"
     ]
    }
   ],
   "source": [
    "counter = Counter(result)\n",
    "data  = counter.most_common(40) #몇 개 보여줄 것인지\n",
    "print(data)"
   ]
  },
  {
   "cell_type": "code",
   "execution_count": null,
   "metadata": {},
   "outputs": [],
   "source": []
  },
  {
   "cell_type": "code",
   "execution_count": null,
   "metadata": {},
   "outputs": [],
   "source": []
  },
  {
   "cell_type": "code",
   "execution_count": null,
   "metadata": {},
   "outputs": [],
   "source": []
  },
  {
   "cell_type": "code",
   "execution_count": null,
   "metadata": {},
   "outputs": [],
   "source": [
    "\n"
   ]
  }
 ],
 "metadata": {
  "kernelspec": {
   "display_name": "Python 3",
   "language": "python",
   "name": "python3"
  },
  "language_info": {
   "codemirror_mode": {
    "name": "ipython",
    "version": 3
   },
   "file_extension": ".py",
   "mimetype": "text/x-python",
   "name": "python",
   "nbconvert_exporter": "python",
   "pygments_lexer": "ipython3",
   "version": "3.6.6"
  }
 },
 "nbformat": 4,
 "nbformat_minor": 2
}
